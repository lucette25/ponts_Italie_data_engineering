{
 "cells": [
  {
   "cell_type": "code",
   "execution_count": 1,
   "id": "2246e149",
   "metadata": {},
   "outputs": [],
   "source": [
    "from bs4 import BeautifulSoup\n",
    "import requests\n",
    "import pandas as pd \n",
    "import sqlalchemy"
   ]
  },
  {
   "cell_type": "code",
   "execution_count": 2,
   "id": "e68fe91c",
   "metadata": {},
   "outputs": [],
   "source": [
    "html_text = requests.get('https://fr.wikipedia.org/wiki/Liste_de_ponts_d%27Italie').text\n",
    "soup = BeautifulSoup(html_text, \"html.parser\")"
   ]
  },
  {
   "cell_type": "raw",
   "id": "18b89b0e",
   "metadata": {},
   "source": [
    "nom\n",
    "distinction \n",
    "longueur\n",
    "type\n",
    "voie_p_voie_f\n",
    "date \n",
    "localisation\n",
    "region\n",
    "reference"
   ]
  },
  {
   "cell_type": "code",
   "execution_count": 3,
   "id": "52395d0d",
   "metadata": {},
   "outputs": [
    {
     "data": {
      "text/plain": [
       "[<td><a href=\"/wiki/Pont_Sublicius\" title=\"Pont Sublicius\">Pont Sublicius</a><br/><small><i>détruit</i></small></td>,\n",
       " <td bgcolor=\"#FFFFFF\">Premier pont de Rome<br/>Construit durant le règne d'<a href=\"/wiki/Ancus_Marcius\" title=\"Ancus Marcius\">Ancus Marcius</a></td>,\n",
       " <td></td>,\n",
       " <td><small><span data-sort-value=\"P\"><a href=\"/wiki/Pont_%C3%A0_poutres\" title=\"Pont à poutres\">Poutres</a><br/>Bois</span></small></td>,\n",
       " <td align=\"center\"><small> <br/><i><a href=\"/wiki/Tibre\" title=\"Tibre\">Tibre</a></i></small></td>,\n",
       " <td><a class=\"mw-redirect\" href=\"/wiki/621_av._J.-C.\" title=\"621 av. J.-C.\">621 <abbr class=\"abbr nowrap\" title=\"avant Jésus-Christ\">av. J.-C.</abbr></a></td>,\n",
       " <td><a href=\"/wiki/Rome\" title=\"Rome\">Rome</a><br/><small><a class=\"mw-kartographer-maplink\" data-lat=\"41.884389\" data-lon=\"12.476611\" data-mw=\"interface\" data-overlays='[\"_859f96a8068ca59f405f9ecbf6a87fb89abee540\"]' data-style=\"osm-intl\" data-zoom=\"13\" href=\"/wiki/Sp%C3%A9cial:Map/13/41.884389/12.476611/fr\">41° 53′ 03,8″ N, 12° 28′ 35,8″ E</a></small></td>,\n",
       " <td><a href=\"/wiki/Latium\" title=\"Latium\">Latium</a></td>]"
      ]
     },
     "execution_count": 3,
     "metadata": {},
     "output_type": "execute_result"
    }
   ],
   "source": [
    "tableaux = soup.find_all('table', class_='wikitable sortable')\n",
    "lines = tableaux[0].find_all('tr')[1:]\n",
    "col0 = lines[0].find_all('td')[2:10]\n",
    "col0"
   ]
  },
  {
   "cell_type": "code",
   "execution_count": 4,
   "id": "de5d07d4",
   "metadata": {},
   "outputs": [
    {
     "data": {
      "text/plain": [
       "'Pont Sublicius'"
      ]
     },
     "execution_count": 4,
     "metadata": {},
     "output_type": "execute_result"
    }
   ],
   "source": [
    "nom = col0[0].find('a').get_text()\n",
    "nom"
   ]
  },
  {
   "cell_type": "code",
   "execution_count": 5,
   "id": "30999113",
   "metadata": {},
   "outputs": [
    {
     "data": {
      "text/plain": [
       "\"Premier pont de RomeConstruit durant le règne d'Ancus Marcius\""
      ]
     },
     "execution_count": 5,
     "metadata": {},
     "output_type": "execute_result"
    }
   ],
   "source": [
    "distinction = col0[1].get_text()\n",
    "distinction"
   ]
  },
  {
   "cell_type": "code",
   "execution_count": 6,
   "id": "01f3231b",
   "metadata": {},
   "outputs": [
    {
     "data": {
      "text/plain": [
       "''"
      ]
     },
     "execution_count": 6,
     "metadata": {},
     "output_type": "execute_result"
    }
   ],
   "source": [
    "longueur = col0[2].get_text()\n",
    "longueur"
   ]
  },
  {
   "cell_type": "code",
   "execution_count": 7,
   "id": "9db16569",
   "metadata": {},
   "outputs": [
    {
     "data": {
      "text/plain": [
       "'Poutres : Bois'"
      ]
     },
     "execution_count": 7,
     "metadata": {},
     "output_type": "execute_result"
    }
   ],
   "source": [
    "type_name = col0[3].find('a').get_text()\n",
    "type_desc = str(col0[3].find('span')).split('<br/>')[1].split('<')[0]\n",
    "\n",
    "type_final = type_name + ' : ' + type_desc\n",
    "type_final"
   ]
  },
  {
   "cell_type": "code",
   "execution_count": 8,
   "id": "9f02eb30",
   "metadata": {},
   "outputs": [
    {
     "data": {
      "text/plain": [
       "'Tibre'"
      ]
     },
     "execution_count": 8,
     "metadata": {},
     "output_type": "execute_result"
    }
   ],
   "source": [
    "voiep_voief = col0[4].get_text().strip()\n",
    "voiep_voief"
   ]
  },
  {
   "cell_type": "code",
   "execution_count": 9,
   "id": "dced6c43",
   "metadata": {},
   "outputs": [
    {
     "data": {
      "text/plain": [
       "'621 av. J.-C.'"
      ]
     },
     "execution_count": 9,
     "metadata": {},
     "output_type": "execute_result"
    }
   ],
   "source": [
    "date = col0[5].get_text().split()\n",
    "date = ' '.join(date)\n",
    "date"
   ]
  },
  {
   "cell_type": "code",
   "execution_count": 10,
   "id": "9f426ebc",
   "metadata": {},
   "outputs": [
    {
     "data": {
      "text/plain": [
       "'Rome41° 53′ 03,8″ N, 12° 28′ 35,8″ E'"
      ]
     },
     "execution_count": 10,
     "metadata": {},
     "output_type": "execute_result"
    }
   ],
   "source": [
    "localisation = col0[6].get_text().split()\n",
    "localisation = ' '.join(localisation)\n",
    "localisation"
   ]
  },
  {
   "cell_type": "code",
   "execution_count": 11,
   "id": "ff7b3bcf",
   "metadata": {},
   "outputs": [
    {
     "data": {
      "text/plain": [
       "'Latium'"
      ]
     },
     "execution_count": 11,
     "metadata": {},
     "output_type": "execute_result"
    }
   ],
   "source": [
    "region = col0[7].get_text()\n",
    "region"
   ]
  },
  {
   "cell_type": "raw",
   "id": "3007b546",
   "metadata": {},
   "source": [
    "Récupération de toutes les données"
   ]
  },
  {
   "cell_type": "code",
   "execution_count": 12,
   "id": "ac59ddef",
   "metadata": {},
   "outputs": [],
   "source": [
    "nom = []\n",
    "distinction  = []\n",
    "longueur = []\n",
    "type_final = []\n",
    "voie_p_voie_f = []\n",
    "date = []\n",
    "localisation = []\n",
    "region = []\n",
    "\n",
    "\n",
    "for t in range(len(tableaux)):\n",
    "    lines = tableaux[t].find_all('tr')[1:]\n",
    "    for line in lines:\n",
    "        cols = line.find_all('td')[2:10]\n",
    "        \n",
    "        # recuperation des noms\n",
    "        try:\n",
    "            nom.append(cols[0].find('a').get_text())\n",
    "        except:\n",
    "            nom.append('')\n",
    "            \n",
    "        # recuperation des distinctions\n",
    "        try:\n",
    "            distinction.append(cols[1].get_text().replace(u'\\xa0', u' '))\n",
    "        except:\n",
    "            distinction.append('')\n",
    "            \n",
    "        # recuperation des longueurs\n",
    "        try:\n",
    "            longueur.append(cols[2].get_text())\n",
    "        except:\n",
    "            longueur.append('')\n",
    "        \n",
    "        # recuperation des types\n",
    "        try:\n",
    "            type_final.append(cols[3].get_text())\n",
    "        except:\n",
    "            type_final.append('')\n",
    "            \n",
    "        # recuperation des voies\n",
    "        try:\n",
    "            voie_p_voie_f.append(cols[4].get_text().strip())\n",
    "        except:\n",
    "            voie_p_voie_f.append('')\n",
    "            \n",
    "        # recuperation des dates\n",
    "        try:\n",
    "            date.append(' '.join(cols[5].get_text().split()))\n",
    "        except:\n",
    "            date.append('')\n",
    "            \n",
    "        # recuperation des localisations\n",
    "        try:\n",
    "            localisation.append(' '.join(cols[6].get_text().split()))\n",
    "        except:\n",
    "            localisation.append('')\n",
    "            \n",
    "        # recuperation des regions\n",
    "        try:\n",
    "            region.append(cols[7].get_text())\n",
    "        except:\n",
    "            region.append('')"
   ]
  },
  {
   "cell_type": "code",
   "execution_count": 13,
   "id": "7a664b32",
   "metadata": {},
   "outputs": [
    {
     "data": {
      "text/plain": [
       "125"
      ]
     },
     "execution_count": 13,
     "metadata": {},
     "output_type": "execute_result"
    }
   ],
   "source": [
    "len(region)"
   ]
  },
  {
   "cell_type": "code",
   "execution_count": 14,
   "id": "ab255d26",
   "metadata": {},
   "outputs": [],
   "source": [
    "## on met tout dans un Dataframe\n",
    "ponts_df = pd.DataFrame({\n",
    "   \"nom\" : nom,\n",
    "    \"distinction\" : distinction,\n",
    "   \"longueur\" : longueur,\n",
    "    \"Type\" : type_final,\n",
    "    \"Voiep_voief\" : voie_p_voie_f,\n",
    "    \"Date\" : date,\n",
    "    \"localisation\" : localisation ,\n",
    "    \"region\" : region\n",
    "})"
   ]
  },
  {
   "cell_type": "code",
   "execution_count": 15,
   "id": "1e22bdd2",
   "metadata": {},
   "outputs": [
    {
     "data": {
      "text/html": [
       "<div>\n",
       "<style scoped>\n",
       "    .dataframe tbody tr th:only-of-type {\n",
       "        vertical-align: middle;\n",
       "    }\n",
       "\n",
       "    .dataframe tbody tr th {\n",
       "        vertical-align: top;\n",
       "    }\n",
       "\n",
       "    .dataframe thead th {\n",
       "        text-align: right;\n",
       "    }\n",
       "</style>\n",
       "<table border=\"1\" class=\"dataframe\">\n",
       "  <thead>\n",
       "    <tr style=\"text-align: right;\">\n",
       "      <th></th>\n",
       "      <th>nom</th>\n",
       "      <th>distinction</th>\n",
       "      <th>longueur</th>\n",
       "      <th>Type</th>\n",
       "      <th>Voiep_voief</th>\n",
       "      <th>Date</th>\n",
       "      <th>localisation</th>\n",
       "      <th>region</th>\n",
       "    </tr>\n",
       "  </thead>\n",
       "  <tbody>\n",
       "    <tr>\n",
       "      <th>0</th>\n",
       "      <td>Pont Sublicius</td>\n",
       "      <td>Premier pont de RomeConstruit durant le règne ...</td>\n",
       "      <td></td>\n",
       "      <td>PoutresBois</td>\n",
       "      <td>Tibre</td>\n",
       "      <td>621 av. J.-C.</td>\n",
       "      <td>Rome41° 53′ 03,8″ N, 12° 28′ 35,8″ E</td>\n",
       "      <td>Latium</td>\n",
       "    </tr>\n",
       "    <tr>\n",
       "      <th>1</th>\n",
       "      <td>Pont Æmilius</td>\n",
       "      <td>Plus vieux pont en pierre de RomeConstruit sou...</td>\n",
       "      <td>160</td>\n",
       "      <td>Maçonnerie1 arche plein cintre (6 à l'origine)</td>\n",
       "      <td>Hors serviceTibre</td>\n",
       "      <td>179 av. J.-C.</td>\n",
       "      <td>Rome41° 53′ 21,7″ N, 12° 28′ 45,8″ E</td>\n",
       "      <td>Latium</td>\n",
       "    </tr>\n",
       "    <tr>\n",
       "      <th>2</th>\n",
       "      <td>Pont Milvius</td>\n",
       "      <td>Construit sous le consulat de Marcus Aemilius ...</td>\n",
       "      <td>136</td>\n",
       "      <td>Maçonnerie</td>\n",
       "      <td>Via Flaminia - Via CassiaTibre</td>\n",
       "      <td>115 av. J.-C.</td>\n",
       "      <td>Rome41° 56′ 07,9″ N, 12° 28′ 01,1″ E</td>\n",
       "      <td>Latium</td>\n",
       "    </tr>\n",
       "    <tr>\n",
       "      <th>3</th>\n",
       "      <td>Ponte dell’Abbadia</td>\n",
       "      <td></td>\n",
       "      <td></td>\n",
       "      <td>Maçonnerie1 arche plein cintre</td>\n",
       "      <td>Fiora</td>\n",
       "      <td>90 av. J.-C.</td>\n",
       "      <td>Montalto di Castro42° 25′ 47,5″ N, 11° 37′ 53,...</td>\n",
       "      <td>Latium</td>\n",
       "    </tr>\n",
       "    <tr>\n",
       "      <th>4</th>\n",
       "      <td>Pont Fabricius</td>\n",
       "      <td>Plus ancien pont de Rome encore dans son état ...</td>\n",
       "      <td>62</td>\n",
       "      <td>Maçonnerie2 arches</td>\n",
       "      <td>Tibre</td>\n",
       "      <td>62 av. J.-C.</td>\n",
       "      <td>Rome - Île Tibérine41° 53′ 27,8″ N, 12° 28′ 41...</td>\n",
       "      <td>Latium</td>\n",
       "    </tr>\n",
       "    <tr>\n",
       "      <th>...</th>\n",
       "      <td>...</td>\n",
       "      <td>...</td>\n",
       "      <td>...</td>\n",
       "      <td>...</td>\n",
       "      <td>...</td>\n",
       "      <td>...</td>\n",
       "      <td>...</td>\n",
       "      <td>...</td>\n",
       "    </tr>\n",
       "    <tr>\n",
       "      <th>120</th>\n",
       "      <td>Viaduc de Santhià</td>\n",
       "      <td></td>\n",
       "      <td>3782</td>\n",
       "      <td>Poutre-caissonBéton précontraint</td>\n",
       "      <td>LGV Turin - MilanStrada Statale 143Route europ...</td>\n",
       "      <td>2006</td>\n",
       "      <td>Santhià45° 22′ 53″ N, 8° 08′ 33,3″ E</td>\n",
       "      <td>Piémont</td>\n",
       "    </tr>\n",
       "    <tr>\n",
       "      <th>121</th>\n",
       "      <td>Viaduc de Fadalto</td>\n",
       "      <td></td>\n",
       "      <td>3567</td>\n",
       "      <td>Poutre-caissonBéton précontraint2 ouvrages</td>\n",
       "      <td>Autostrada A27</td>\n",
       "      <td>1990</td>\n",
       "      <td>Fadalto46° 03′ 47,2″ N, 12° 19′ 55″ E</td>\n",
       "      <td>Vénétie</td>\n",
       "    </tr>\n",
       "    <tr>\n",
       "      <th>122</th>\n",
       "      <td>Pont du lac de Valvestino</td>\n",
       "      <td></td>\n",
       "      <td></td>\n",
       "      <td>ArcBéton, tablier porté</td>\n",
       "      <td>Lac de Valvestino</td>\n",
       "      <td></td>\n",
       "      <td>Gargnano45° 43′ 18,5″ N, 10° 36′ 45,1″ E</td>\n",
       "      <td>Lombardie</td>\n",
       "    </tr>\n",
       "    <tr>\n",
       "      <th>123</th>\n",
       "      <td>Ponte sul bacino del Flumendosa</td>\n",
       "      <td></td>\n",
       "      <td></td>\n",
       "      <td>ArcBéton, tablier porté</td>\n",
       "      <td>Strada Statale 198Flumendosa</td>\n",
       "      <td></td>\n",
       "      <td>Villanova Tulo39° 46′ 17,1″ N, 9° 13′ 42,1″ E</td>\n",
       "      <td>Sardaigne</td>\n",
       "    </tr>\n",
       "    <tr>\n",
       "      <th>124</th>\n",
       "      <td>Viaduc Salso</td>\n",
       "      <td></td>\n",
       "      <td></td>\n",
       "      <td>Poutre-caissonBéton précontraint</td>\n",
       "      <td>Autostrada A2Route européenne 45</td>\n",
       "      <td></td>\n",
       "      <td>Castrovillari39° 45′ 31,4″ N, 16° 13′ 14,4″ E</td>\n",
       "      <td>Calabre</td>\n",
       "    </tr>\n",
       "  </tbody>\n",
       "</table>\n",
       "<p>125 rows × 8 columns</p>\n",
       "</div>"
      ],
      "text/plain": [
       "                                 nom  \\\n",
       "0                     Pont Sublicius   \n",
       "1                       Pont Æmilius   \n",
       "2                       Pont Milvius   \n",
       "3                 Ponte dell’Abbadia   \n",
       "4                     Pont Fabricius   \n",
       "..                               ...   \n",
       "120                Viaduc de Santhià   \n",
       "121                Viaduc de Fadalto   \n",
       "122        Pont du lac de Valvestino   \n",
       "123  Ponte sul bacino del Flumendosa   \n",
       "124                     Viaduc Salso   \n",
       "\n",
       "                                           distinction longueur  \\\n",
       "0    Premier pont de RomeConstruit durant le règne ...            \n",
       "1    Plus vieux pont en pierre de RomeConstruit sou...      160   \n",
       "2    Construit sous le consulat de Marcus Aemilius ...      136   \n",
       "3                                                                 \n",
       "4    Plus ancien pont de Rome encore dans son état ...       62   \n",
       "..                                                 ...      ...   \n",
       "120                                                        3782   \n",
       "121                                                        3567   \n",
       "122                                                               \n",
       "123                                                               \n",
       "124                                                               \n",
       "\n",
       "                                               Type  \\\n",
       "0                                       PoutresBois   \n",
       "1    Maçonnerie1 arche plein cintre (6 à l'origine)   \n",
       "2                                       Maçonnerie    \n",
       "3                    Maçonnerie1 arche plein cintre   \n",
       "4                                Maçonnerie2 arches   \n",
       "..                                              ...   \n",
       "120                Poutre-caissonBéton précontraint   \n",
       "121      Poutre-caissonBéton précontraint2 ouvrages   \n",
       "122                         ArcBéton, tablier porté   \n",
       "123                         ArcBéton, tablier porté   \n",
       "124                Poutre-caissonBéton précontraint   \n",
       "\n",
       "                                           Voiep_voief           Date  \\\n",
       "0                                                Tibre  621 av. J.-C.   \n",
       "1                                    Hors serviceTibre  179 av. J.-C.   \n",
       "2                       Via Flaminia - Via CassiaTibre  115 av. J.-C.   \n",
       "3                                                Fiora   90 av. J.-C.   \n",
       "4                                                Tibre   62 av. J.-C.   \n",
       "..                                                 ...            ...   \n",
       "120  LGV Turin - MilanStrada Statale 143Route europ...           2006   \n",
       "121                                     Autostrada A27           1990   \n",
       "122                                  Lac de Valvestino                  \n",
       "123                       Strada Statale 198Flumendosa                  \n",
       "124                   Autostrada A2Route européenne 45                  \n",
       "\n",
       "                                          localisation     region  \n",
       "0                 Rome41° 53′ 03,8″ N, 12° 28′ 35,8″ E     Latium  \n",
       "1                 Rome41° 53′ 21,7″ N, 12° 28′ 45,8″ E     Latium  \n",
       "2                 Rome41° 56′ 07,9″ N, 12° 28′ 01,1″ E     Latium  \n",
       "3    Montalto di Castro42° 25′ 47,5″ N, 11° 37′ 53,...     Latium  \n",
       "4    Rome - Île Tibérine41° 53′ 27,8″ N, 12° 28′ 41...     Latium  \n",
       "..                                                 ...        ...  \n",
       "120               Santhià45° 22′ 53″ N, 8° 08′ 33,3″ E    Piémont  \n",
       "121              Fadalto46° 03′ 47,2″ N, 12° 19′ 55″ E    Vénétie  \n",
       "122           Gargnano45° 43′ 18,5″ N, 10° 36′ 45,1″ E  Lombardie  \n",
       "123      Villanova Tulo39° 46′ 17,1″ N, 9° 13′ 42,1″ E  Sardaigne  \n",
       "124      Castrovillari39° 45′ 31,4″ N, 16° 13′ 14,4″ E    Calabre  \n",
       "\n",
       "[125 rows x 8 columns]"
      ]
     },
     "execution_count": 15,
     "metadata": {},
     "output_type": "execute_result"
    }
   ],
   "source": [
    "ponts_df"
   ]
  },
  {
   "cell_type": "raw",
   "id": "8fe3c921",
   "metadata": {},
   "source": [
    "Stockage dans un fichier excel"
   ]
  },
  {
   "cell_type": "code",
   "execution_count": 16,
   "id": "a1587686",
   "metadata": {},
   "outputs": [],
   "source": [
    "ponts_df.to_excel('ponts_italia.xlsx', index=False)"
   ]
  },
  {
   "cell_type": "code",
   "execution_count": null,
   "id": "9a6a5397",
   "metadata": {},
   "outputs": [],
   "source": []
  }
 ],
 "metadata": {
  "kernelspec": {
   "display_name": "Python 3 (ipykernel)",
   "language": "python",
   "name": "python3"
  },
  "language_info": {
   "codemirror_mode": {
    "name": "ipython",
    "version": 3
   },
   "file_extension": ".py",
   "mimetype": "text/x-python",
   "name": "python",
   "nbconvert_exporter": "python",
   "pygments_lexer": "ipython3",
   "version": "3.9.7"
  }
 },
 "nbformat": 4,
 "nbformat_minor": 5
}
